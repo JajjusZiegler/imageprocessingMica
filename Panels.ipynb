{
 "cells": [
  {
   "cell_type": "markdown",
   "metadata": {},
   "source": [
    "# Panels\n",
    "This notebook shows usage for the Panel class.  This type is useful for detecting MicaSense calibration panels and extracting information about the lambertian panel surface."
   ]
  },
  {
   "cell_type": "code",
   "execution_count": 3,
   "metadata": {},
   "outputs": [],
   "source": [
    "%load_ext autoreload\n",
    "%autoreload 2"
   ]
  },
  {
   "cell_type": "code",
   "execution_count": 4,
   "metadata": {
    "scrolled": false
   },
   "outputs": [
    {
     "ename": "ValueError",
     "evalue": "Provided file path does not have a band name: ./data/ALTUM/IMG_0000_4.tif",
     "output_type": "error",
     "traceback": [
      "\u001b[0;31m---------------------------------------------------------------------------\u001b[0m",
      "\u001b[0;31mValueError\u001b[0m                                Traceback (most recent call last)",
      "Cell \u001b[0;32mIn[4], line 9\u001b[0m\n\u001b[1;32m      6\u001b[0m imagePath \u001b[38;5;241m=\u001b[39m os\u001b[38;5;241m.\u001b[39mpath\u001b[38;5;241m.\u001b[39mjoin(\u001b[38;5;124m'\u001b[39m\u001b[38;5;124m.\u001b[39m\u001b[38;5;124m'\u001b[39m,\u001b[38;5;124m'\u001b[39m\u001b[38;5;124mdata\u001b[39m\u001b[38;5;124m'\u001b[39m,\u001b[38;5;124m'\u001b[39m\u001b[38;5;124mALTUM\u001b[39m\u001b[38;5;124m'\u001b[39m)\n\u001b[1;32m      7\u001b[0m imageName \u001b[38;5;241m=\u001b[39m glob\u001b[38;5;241m.\u001b[39mglob(os\u001b[38;5;241m.\u001b[39mpath\u001b[38;5;241m.\u001b[39mjoin(imagePath,\u001b[38;5;124m'\u001b[39m\u001b[38;5;124mIMG_0000_4.tif\u001b[39m\u001b[38;5;124m'\u001b[39m))[\u001b[38;5;241m0\u001b[39m]\n\u001b[0;32m----> 9\u001b[0m img \u001b[38;5;241m=\u001b[39m \u001b[43mImage\u001b[49m\u001b[43m(\u001b[49m\u001b[43mimageName\u001b[49m\u001b[43m)\u001b[49m\n\u001b[1;32m     10\u001b[0m panel \u001b[38;5;241m=\u001b[39m Panel(img)\n\u001b[1;32m     12\u001b[0m \u001b[38;5;28;01mif\u001b[39;00m \u001b[38;5;129;01mnot\u001b[39;00m panel\u001b[38;5;241m.\u001b[39mpanel_detected():\n",
      "File \u001b[0;32m~/imageprocessing/micasense/image.py:75\u001b[0m, in \u001b[0;36mImage.__init__\u001b[0;34m(self, image_path, exiftool_obj, allow_uncalibrated)\u001b[0m\n\u001b[1;32m     72\u001b[0m \u001b[38;5;28mself\u001b[39m\u001b[38;5;241m.\u001b[39mmeta \u001b[38;5;241m=\u001b[39m metadata\u001b[38;5;241m.\u001b[39mMetadata(\u001b[38;5;28mself\u001b[39m\u001b[38;5;241m.\u001b[39mpath, exiftool_obj\u001b[38;5;241m=\u001b[39mexiftool_obj)\n\u001b[1;32m     74\u001b[0m \u001b[38;5;28;01mif\u001b[39;00m \u001b[38;5;28mself\u001b[39m\u001b[38;5;241m.\u001b[39mmeta\u001b[38;5;241m.\u001b[39mband_name() \u001b[38;5;129;01mis\u001b[39;00m \u001b[38;5;28;01mNone\u001b[39;00m:\n\u001b[0;32m---> 75\u001b[0m     \u001b[38;5;28;01mraise\u001b[39;00m \u001b[38;5;167;01mValueError\u001b[39;00m(\u001b[38;5;124m\"\u001b[39m\u001b[38;5;124mProvided file path does not have a band name: \u001b[39m\u001b[38;5;132;01m{}\u001b[39;00m\u001b[38;5;124m\"\u001b[39m\u001b[38;5;241m.\u001b[39mformat(image_path))\n\u001b[1;32m     76\u001b[0m \u001b[38;5;28;01mif\u001b[39;00m \u001b[38;5;129;01mnot\u001b[39;00m allow_uncalibrated:\n\u001b[1;32m     77\u001b[0m     \u001b[38;5;28;01mif\u001b[39;00m \u001b[38;5;28mself\u001b[39m\u001b[38;5;241m.\u001b[39mmeta\u001b[38;5;241m.\u001b[39mband_name()\u001b[38;5;241m.\u001b[39mupper() \u001b[38;5;241m!=\u001b[39m \u001b[38;5;124m'\u001b[39m\u001b[38;5;124mLWIR\u001b[39m\u001b[38;5;124m'\u001b[39m \u001b[38;5;129;01mand\u001b[39;00m \u001b[38;5;129;01mnot\u001b[39;00m \u001b[38;5;28mself\u001b[39m\u001b[38;5;241m.\u001b[39mmeta\u001b[38;5;241m.\u001b[39msupports_radiometric_calibration():\n",
      "\u001b[0;31mValueError\u001b[0m: Provided file path does not have a band name: ./data/ALTUM/IMG_0000_4.tif"
     ]
    }
   ],
   "source": [
    "import os, glob\n",
    "from micasense.image import Image\n",
    "from micasense.panel import Panel\n",
    "%matplotlib inline\n",
    "\n",
    "imagePath = os.path.join('.','data','ALTUM')\n",
    "imageName = glob.glob(os.path.join(imagePath,'IMG_0000_4.tif'))[0]\n",
    "\n",
    "img = Image(imageName)\n",
    "panel = Panel(img)\n",
    "\n",
    "if not panel.panel_detected():\n",
    "    raise IOError(\"Panel Not Detected!\")\n",
    "    \n",
    "print(\"Detected panel serial: {}\".format(panel.serial))\n",
    "mean, std, num, sat_count = panel.raw()\n",
    "print(\"Extracted Panel Statistics:\")\n",
    "print(\"Mean: {}\".format(mean))\n",
    "print(\"Standard Deviation: {}\".format(std))\n",
    "print(\"Panel Pixel Count: {}\".format(num))\n",
    "print(\"Saturated Pixel Count: {}\".format(sat_count))\n",
    "\n",
    "panel.plot();"
   ]
  },
  {
   "cell_type": "code",
   "execution_count": null,
   "metadata": {
    "scrolled": false
   },
   "outputs": [],
   "source": [
    "# imagePath = os.path.join('.','data','ALTUM1SET','000')\n",
    "# imageName = glob.glob(os.path.join(imagePath,'IMG_0000_1.tif'))[0]\n",
    "\n",
    "imagePath = os.path.join('.','data','ALTUM')\n",
    "imageName = glob.glob(os.path.join(imagePath,'IMG_0000_4.tif'))[0]\n",
    "\n",
    "img = Image(imageName)\n",
    "if img.auto_calibration_image:\n",
    "    print(\"Found automatic calibration image\")\n",
    "panel = Panel(img)\n",
    "\n",
    "if not panel.panel_detected():\n",
    "    raise IOError(\"Panel Not Detected!\")\n",
    "    \n",
    "print(\"Detected panel serial: {}\".format(panel.serial))\n",
    "mean, std, num, sat_count = panel.raw()\n",
    "print(\"Extracted Panel Statistics:\")\n",
    "print(\"Mean: {}\".format(mean))\n",
    "print(\"Standard Deviation: {}\".format(std))\n",
    "print(\"Panel Pixel Count: {}\".format(num))\n",
    "print(\"Saturated Pixel Count: {}\".format(sat_count))\n",
    "\n",
    "panel.plot();"
   ]
  },
  {
   "cell_type": "markdown",
   "metadata": {},
   "source": [
    "---\n",
    "Copyright (c) 2017-2018 MicaSense, Inc.  For licensing information see the [project git repository](https://github.com/micasense/imageprocessing)"
   ]
  }
 ],
 "metadata": {
  "kernelspec": {
   "display_name": "micasense",
   "language": "python",
   "name": "python3"
  },
  "language_info": {
   "codemirror_mode": {
    "name": "ipython",
    "version": 3
   },
   "file_extension": ".py",
   "mimetype": "text/x-python",
   "name": "python",
   "nbconvert_exporter": "python",
   "pygments_lexer": "ipython3",
   "version": "3.8.20"
  },
  "toc": {
   "nav_menu": {},
   "number_sections": true,
   "sideBar": true,
   "skip_h1_title": false,
   "toc_cell": false,
   "toc_position": {},
   "toc_section_display": "block",
   "toc_window_display": false
  },
  "varInspector": {
   "cols": {
    "lenName": 16,
    "lenType": 16,
    "lenVar": 40
   },
   "kernels_config": {
    "python": {
     "delete_cmd_postfix": "",
     "delete_cmd_prefix": "del ",
     "library": "var_list.py",
     "varRefreshCmd": "print(var_dic_list())"
    },
    "r": {
     "delete_cmd_postfix": ") ",
     "delete_cmd_prefix": "rm(",
     "library": "var_list.r",
     "varRefreshCmd": "cat(var_dic_list()) "
    }
   },
   "types_to_exclude": [
    "module",
    "function",
    "builtin_function_or_method",
    "instance",
    "_Feature"
   ],
   "window_display": false
  }
 },
 "nbformat": 4,
 "nbformat_minor": 2
}
